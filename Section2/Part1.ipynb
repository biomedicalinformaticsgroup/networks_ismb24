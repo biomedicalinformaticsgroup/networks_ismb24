{
 "cells": [
  {
   "cell_type": "markdown",
   "metadata": {},
   "source": [
    "## Part 1: Over-representation and Enrichment Analysis"
   ]
  },
  {
   "cell_type": "code",
   "execution_count": null,
   "metadata": {},
   "outputs": [],
   "source": [
    "import pickle\n",
    "import os\n",
    "import sys\n",
    "import matplotlib.pyplot as plt\n",
    "import urllib\n",
    "import urllib as ul\n",
    "import urllib.request\n",
    "import pandas as pd\n",
    "import numpy as np\n",
    "import matplotlib.pyplot as plt\n",
    "import matplotlib\n",
    "import json\n",
    "import networkx as nx\n",
    "import ast\n",
    "from prettytable import PrettyTable\n",
    "import gseapy as gp\n",
    "from palettable import wesanderson\n",
    "\n",
    "pd.set_option('display.max_colwidth', None)\n",
    "pd.set_option('display.max_columns', None)\n",
    "pd.set_option('display.max_rows', None)\n",
    "\n",
    "import warnings\n",
    "warnings.filterwarnings('ignore')"
   ]
  },
  {
   "cell_type": "code",
   "execution_count": null,
   "metadata": {},
   "outputs": [],
   "source": [
    "print(os.getcwd())\n",
    "current_dir = os.path.dirname(os.path.abspath('__file__'))\n",
    "parent_dir = os.path.abspath(os.path.join(current_dir, '..'))\n",
    "sys.path.append(parent_dir)\n",
    "print(parent_dir)"
   ]
  },
  {
   "cell_type": "markdown",
   "metadata": {},
   "source": [
    "### 0. Load networks from Section 1\n",
    "\n",
    "- Gene correlation network\n",
    "- Patient network from TCGA gene expression data\n",
    "- Patient network from TCGA DNA methylation data\n"
   ]
  },
  {
   "cell_type": "code",
   "execution_count": null,
   "metadata": {},
   "outputs": [],
   "source": [
    "intermediate_data_dir = '/data/intermediate/'\n",
    "raw_data_dir = '/data/raw/'\n",
    "\n",
    "# Define paths to .gml network files from Section 1\n",
    "# These paths point to the Gene correlation network, Patient network from (1) TCGA gene expression data and (2) TCGA DNA methylation data.\n",
    "G_gxp_path = intermediate_data_dir + 'section2_networks_v1/gene_coexpression_network.gml'\n",
    "\n",
    "# Load the GML graphs into NetworkX graph objects\n",
    "# nx.read_gml() function reads a graph from a GML file\n",
    "G_gxp = nx.read_gml(G_gxp_path)  # Gene correlation network\n",
    "\n",
    "# Get all nodes in each graph\n",
    "# The nodes represent genes or patients depending on the network\n",
    "G_gxp_nodes_list = list(G_gxp.nodes())  # Nodes in the gene correlation network\n",
    "\n",
    "# Define paths to the raw TCGA datasets\n",
    "# tcga_dnam_path = 'section2_data/ISMB_TCGA_DNAm.pkl'  # TCGA DNA methylation data\n",
    "tcga_gxp_path = raw_data_dir + 'ISMB_TCGA_GE.pkl'  # TCGA Gene expression data\n",
    "\n",
    "# Load the gene expression dataset\n",
    "# pd.read_pickle() function loads a pickled pandas DataFrame or Series\n",
    "tcga_gxp = pd.read_pickle(tcga_gxp_path)\n",
    "\n",
    "# For this example, we'll use a CSV file that includes gene symbols\n",
    "# pd.read_csv() function loads a CSV file into a pandas DataFrame\n",
    "tcga_gxp_df = pd.read_csv(intermediate_data_dir + 'tcga_ge_df_symbols_t.csv') # Dataset with gene symbols\n",
    "# Set 'GENES' column as the index for easy access to gene-specific data\n",
    "tcga_gxp_df.set_index('GENES', inplace=True)\n",
    "\n",
    "# Extract metadata from the gene expression dataset\n",
    "# Metadata might include information such as patient IDs, sample conditions, etc.\n",
    "tcga_gxp_meta = tcga_gxp['datMeta']\n",
    "\n",
    "# Print the number of nodes in each network\n",
    "# This provides a quick overview of the size of each network\n",
    "print(f\"Number of nodes in gene correlation network: {len(G_gxp_nodes_list)}\")\n"
   ]
  },
  {
   "cell_type": "markdown",
   "metadata": {},
   "source": [
    "##### Custom function `draw_network_with_node_attrs()` draws a network with nodes colored and/or shaped based on their attributes. If communities are provided, nodes are colored by their community memberships. A legend is added to indicate the mapping of attributes to colors and shapes."
   ]
  },
  {
   "cell_type": "code",
   "execution_count": null,
   "metadata": {},
   "outputs": [],
   "source": [
    "from functions import draw_network_with_node_attrs\n",
    "\n",
    "# Args:\n",
    "#     G (networkx.Graph): The graph to be drawn.\n",
    "#     node_attributes (dict): A dictionary where keys are node names and values are dictionaries of attributes.\n",
    "#     communities (List[List[Any]], optional): A list where each sublist contains the nodes belonging to a community. Default is None.\n",
    "#     title (str, optional): The title of the plot. Default is 'Network Visualization'.\n",
    "#     color_attr (str, optional): Node attribute to color nodes by. Default is None.\n",
    "#     shape_attr (str, optional): Node attribute to shape nodes by. Default is None.\n",
    "#     figsize (tuple, optional): The size of the figure. Default is (20, 10).\n",
    "#     layout (str, optional): The layout algorithm for positioning nodes ('spring', 'circular', etc.). Default is 'spring'.\n",
    "#     cmap_name (str, optional): The name of the colormap to use for coloring. Default is 'tab20'.\n",
    "#     with_labels (bool, optional): Whether to draw labels for the nodes. Default is False."
   ]
  },
  {
   "cell_type": "code",
   "execution_count": null,
   "metadata": {},
   "outputs": [],
   "source": [
    "# Display the shape of the dataframe\n",
    "print(\"\\nShape of the dataframe 'tcga_gxp_df' (rows, columns):\")\n",
    "### YOUR CODE HERE ###\n",
    "print()\n",
    "\n",
    "# List the columns in the dataframe\n",
    "print(\"\\nList of columns in the dataframe 'tcga_gxp_df':\")\n",
    "### YOUR CODE HERE ###\n",
    "print()"
   ]
  },
  {
   "cell_type": "markdown",
   "metadata": {},
   "source": [
    "##### We will use [cancer gene calatogue (CGC)](https://cancer.sanger.ac.uk/census) from the Catalogue Of Somatic Mutations In Cancer (COSMIC) to annotate genes in our network. \n",
    "\n",
    "- `'Tier'`\n",
    "    - To be classified into Tier 1, a gene must possess a documented activity relevant to cancer, along with evidence of mutations in cancer which change the activity of the gene product in a way that promotes oncogenic transformation.\n",
    "    - Tier 2 consists of genes with strong indications of a role in cancer but with less extensive available evidence.\n",
    "- `'Hallmark'`\n",
    "    - New overviews of cancer gene function focused on hallmarks of cancer pull together manually curated information on the function of proteins coded by cancer genes and summarise the data in simple graphical form. They present a condensed overview of most relevant facts with quick access to the literature source, and define whether a gene has a stimulating or suppressive effect via individual cancer hallmarks."
   ]
  },
  {
   "cell_type": "code",
   "execution_count": null,
   "metadata": {},
   "outputs": [],
   "source": [
    "cancer_genes_path = 'section2_data/Census_allFri Jul  5 14_32_40 2024.csv'\n",
    "cancer_genes_df = pd.read_csv(cancer_genes_path)\n",
    "print(cancer_genes_df.columns)\n",
    "cancer_genes_df.head(2)"
   ]
  },
  {
   "cell_type": "code",
   "execution_count": null,
   "metadata": {},
   "outputs": [],
   "source": [
    "cancer_genes_df = cancer_genes_df[cancer_genes_df['Tier']==1]\n",
    "cancer_genes = cancer_genes_df['Gene Symbol'].tolist()\n",
    "\n",
    "# Create the dictionary with node labels as keys and boolean as values\n",
    "# Complete the dictionary comprehension to check if each node is in the list of cancer genes\n",
    "\n",
    "### YOUR CODE HERE ###\n",
    "found_in_cancer_genes = {node: bool(node in cancer_genes) }\n",
    "\n",
    "node_attributes={}\n",
    "node_attributes['cancer_gene'] = found_in_cancer_genes"
   ]
  },
  {
   "cell_type": "code",
   "execution_count": null,
   "metadata": {},
   "outputs": [],
   "source": [
    "node_attributes"
   ]
  },
  {
   "cell_type": "markdown",
   "metadata": {},
   "source": [
    "### 1. Gene Network Analysis with `G_exp`"
   ]
  },
  {
   "cell_type": "markdown",
   "metadata": {},
   "source": [
    "We are going to use `'KEGG_2021_Human'` as the gene set. KEGG (Kyoto Encyclopedia of Genes and Genomes) is a knowledge base for systematic analysis of gene functions, linking genomic information with higher order functional information [(Kanehisa et al., 2000)](https://doi.org/10.1093/nar/28.1.27)."
   ]
  },
  {
   "cell_type": "code",
   "execution_count": null,
   "metadata": {},
   "outputs": [],
   "source": [
    "# Alternative gene sets like 'MSigDB_Hallmark_2020' can also be used.\n",
    "gene_sets = 'KEGG_2021_Human'"
   ]
  },
  {
   "cell_type": "code",
   "execution_count": null,
   "metadata": {},
   "outputs": [],
   "source": [
    "# You can also retrieve and display the list of available gene sets\n",
    "gene_set_list = gp.get_library_name()\n",
    "print(gene_set_list)"
   ]
  },
  {
   "cell_type": "markdown",
   "metadata": {},
   "source": [
    "#### 1.1 Over Representation Analysis (ORA)"
   ]
  },
  {
   "cell_type": "markdown",
   "metadata": {},
   "source": [
    "Over-representation analysis (ORA) is a method used to identify which predefined gene sets are disproportionately represented in a given set of genes compared to what would be expected by random chance [(Huang et al., 2009)](https://www.ncbi.nlm.nih.gov/pmc/articles/PMC2615629/). We recommend using Over-representation analysis (ORA) only when Gene Set Enrichment Analysis (GSEA) is not suitable. Although we are using the [`gseapy`](https://doi.org/10.1093/bioinformatics/btac757) library for ORA in this the tutorial, it's important to note that ORA and GSEA are distinct methods."
   ]
  },
  {
   "cell_type": "markdown",
   "metadata": {},
   "source": [
    "##### 1.1.1 ORA on gene correlation network"
   ]
  },
  {
   "cell_type": "code",
   "execution_count": null,
   "metadata": {},
   "outputs": [],
   "source": [
    "# Perform ORA on all nodes in the gene correlation network\n",
    "\n",
    "### YOUR CODE HERE ###\n",
    "enr_all_nodes = gp.enrichr()"
   ]
  },
  {
   "cell_type": "code",
   "execution_count": null,
   "metadata": {},
   "outputs": [],
   "source": [
    "# Display the top 10 enrichment results\n",
    "\n",
    "### YOUR CODE HERE ###"
   ]
  },
  {
   "cell_type": "markdown",
   "metadata": {},
   "source": [
    "##### 1.1.1 ORA on gene clusters"
   ]
  },
  {
   "cell_type": "markdown",
   "metadata": {},
   "source": [
    "Clustering on Gene Correlation Network\n",
    "\n",
    "- We use community detection algorithm to identify communities in the network: \n",
    "    - The `greedy_modularity_communities()` function in `networkx` implements a community detection algorithm that optimises modularity using a greedy approach. It iteratively merges pairs of nodes or communities that result in the largest increase in modularity until no further improvement is possible. Modularity measures the density of links inside communities compared to links between communities, aiming to maximise this value to identify densely connected groups within the network."
   ]
  },
  {
   "cell_type": "code",
   "execution_count": null,
   "metadata": {},
   "outputs": [],
   "source": [
    "# Cluster the gene correlation network using the greedy modularity communities algorithm\n",
    "communities = nx.algorithms.community.modularity_max.greedy_modularity_communities(G_gxp)\n",
    "\n",
    "# Print the number of detected communities\n",
    "\n",
    "### YOUR CODE HERE ###\n",
    "print(f'The network has {} communities.\\n')"
   ]
  },
  {
   "cell_type": "code",
   "execution_count": null,
   "metadata": {},
   "outputs": [],
   "source": [
    "# Create subgraphs for each community\n",
    "subgraphs = []\n",
    "for community in communities:\n",
    "    \n",
    "    subgraphs.append(G_gxp.subgraph(community))\n",
    "\n",
    "# Print the number of nodes in each subgraph\n",
    "# And draw the subgraph\n",
    "for i, subgraph in enumerate(subgraphs):\n",
    "    print(f'Community {i+1} has {subgraph.number_of_nodes()} nodes.')\n",
    "    \n",
    "    ### YOUR CODE HERE ###\n",
    "    \n",
    "    plt.show() # Forces the plot to be displayed\n",
    "    \n",
    "    "
   ]
  },
  {
   "cell_type": "markdown",
   "metadata": {},
   "source": [
    "#### Visualising the Communities"
   ]
  },
  {
   "cell_type": "code",
   "execution_count": null,
   "metadata": {},
   "outputs": [],
   "source": [
    "# Visualise the gene correlation network with community memberships\n",
    "\n",
    "### YOUR CODE HERE ###\n",
    "draw_network_with_node_attrs() "
   ]
  },
  {
   "cell_type": "markdown",
   "metadata": {},
   "source": [
    "#### Perform ORA on Each Community"
   ]
  },
  {
   "cell_type": "markdown",
   "metadata": {},
   "source": [
    "Performing ORA on individual clusters can help in understanding distinct biological significance of each cluster, revealing how certain pathways or functions are associated with specific subsets of genes."
   ]
  },
  {
   "cell_type": "code",
   "execution_count": null,
   "metadata": {},
   "outputs": [],
   "source": [
    "# Function to perform ORA on a given list of genes\n",
    "def communityORA(genes):\n",
    "    enr = gp.enrichr(gene_list=genes, gene_sets=[gene_sets], organism='human', outdir=None)\n",
    "    return enr\n",
    "\n",
    "# 1. Convert communities to lists for ORA 2. Sort the list of communities by their length in descending order\n",
    "\n",
    "### YOUR CODE HERE ###\n",
    "communities = \n",
    "communities = \n",
    "\n",
    "# Perform ORA for three selected communities\n",
    "community1_enr = communityORA(communities[0])\n",
    "community2_enr = communityORA(communities[1])\n",
    "community3_enr = communityORA(communities[2])\n",
    "\n",
    "# Print the top 10 results for each community\n",
    "x = PrettyTable()\n",
    "x.field_names = [\"Community 1\", \"Community 2\", \"Community 3\"]\n",
    "for i in range(10):\n",
    "    x.add_row([community1_enr.results['Term'][i], community2_enr.results['Term'][i], community3_enr.results['Term'][i]])\n",
    "print(x)\n"
   ]
  },
  {
   "cell_type": "markdown",
   "metadata": {},
   "source": [
    "#### 1.2 Gene Set Enrichment Analysis (GSEA)"
   ]
  },
  {
   "cell_type": "markdown",
   "metadata": {},
   "source": [
    "Gene Set Enrichment Analysis (GSEA) is a genome-wide expression analysis method designed to interpret expression profiles focusing on pre-defined gene sets [(Subramanian et al., 2005)](https://doi.org/10.1073/pnas.0506580102). These gene sets are curated based on prior biological knowledge, such as published information about biochemical pathways or patterns of coexpression observed in previous experimental studies. The genes can be ordered in a ranked list, according to their differential expression between the classes. The primary objective of GSEA is to assess whether the genes within a given gene set tend to occur toward the top (or bottom) of the ranked list. This ranking is based on the correlation between gene expression and a particular phenotypic class distinction. By evaluating the distribution of gene set members within the ranked list, GSEA identifies whether the set is correlated with the phenotypic class, thus providing insights into underlying biological mechanisms. This method contrasts with traditional single-gene analysis by focusing on the collective behavior of gene sets, thereby uncovering biologically significant patterns that might be overlooked when examining individual genes in isolation. We use `gseapy` to perform GSEA with the gene set `KEGG_2021_Human`."
   ]
  },
  {
   "cell_type": "markdown",
   "metadata": {},
   "source": [
    "<!-- (https://pnnl-comp-mass-spec.github.io/proteomics-data-analysis-tutorial/gsea.html) for referencing.  -->\n"
   ]
  },
  {
   "cell_type": "code",
   "execution_count": null,
   "metadata": {},
   "outputs": [],
   "source": [
    "# Display the first five rows of the dataframe \"tcga_gxp_df\"\n",
    "tcga_gxp_df.head(5)"
   ]
  },
  {
   "cell_type": "code",
   "execution_count": null,
   "metadata": {},
   "outputs": [],
   "source": [
    "tcga_gxp_meta.head(3)"
   ]
  },
  {
   "cell_type": "markdown",
   "metadata": {},
   "source": [
    "#### Assign classes based on phenotypic attributes in metadata (e.g., smoking status)"
   ]
  },
  {
   "cell_type": "code",
   "execution_count": null,
   "metadata": {},
   "outputs": [],
   "source": [
    "# Create a dictionary to store the class assignments for each sample\n",
    "classes = {}\n",
    "\n",
    "# Iterate through the columns (samples)\n",
    "for sample in tcga_gxp_df.loc[G_gxp_nodes_list].columns: # \".loc[G_gxp_nodes_list]\" grabs rows of specified gene symbols\n",
    "    \n",
    "    # Assign class labels based on the smoking status from the metadata\n",
    "    \n",
    "    if tcga_gxp_meta.loc[sample, 'Smoked'] == 'Smoker':\n",
    "        ### YOUR CODE HERE ###\n",
    "    elif tcga_gxp_meta.loc[sample, 'Smoked'] == 'Never':\n",
    "        ### YOUR CODE HERE ###\n",
    "    else:\n",
    "        pass\n"
   ]
  },
  {
   "cell_type": "code",
   "execution_count": null,
   "metadata": {},
   "outputs": [],
   "source": [
    "classes"
   ]
  },
  {
   "cell_type": "code",
   "execution_count": null,
   "metadata": {},
   "outputs": [],
   "source": [
    "tcga_gxp_df.loc[G_gxp_nodes_list].head(2)"
   ]
  },
  {
   "cell_type": "code",
   "execution_count": null,
   "metadata": {},
   "outputs": [],
   "source": [
    "# Perform GSEA using the prepared data and class assignments\n",
    "gs_res = gp.gsea(data=tcga_gxp_df.loc[G_gxp_nodes_list], gene_sets=gene_sets, cls=classes, permutation_num=100, outdir=None, method='signal_to_noise', threads=4, seed=7)\n",
    "\n",
    "# Display the top results from the GSEA\n",
    "\n",
    "### YOUR CODE HERE ###"
   ]
  },
  {
   "cell_type": "markdown",
   "metadata": {},
   "source": [
    "#### Visualising GSEA Results"
   ]
  },
  {
   "cell_type": "markdown",
   "metadata": {},
   "source": [
    "Once you have performed GSEA, the next step is to visualise the results. Visualisation helps in interpreting the biological roles of the enriched gene sets. Here, we visualise GSEA results with Barcode Enrichment Plot, Heatmap, Clustermap, and Dot Plot. "
   ]
  },
  {
   "cell_type": "markdown",
   "metadata": {},
   "source": [
    "### Barcode Enrichment Plot"
   ]
  },
  {
   "cell_type": "markdown",
   "metadata": {},
   "source": [
    "Barcode Enrichment Plot shows the positions of members of a given gene set in a ranked list of enrichment scores for the top enriched terms. The scores are ranked left to right from smallest to largest. The ranked scores are represented by a shaded bar, forming a pattern like a barcode. "
   ]
  },
  {
   "cell_type": "code",
   "execution_count": null,
   "metadata": {},
   "outputs": [],
   "source": [
    "# Extract the enriched terms from the GSEA results. The terms represent pathways or functional categories that are significantly enriched in the dataset.\n",
    "\n",
    "### YOUR CODE HERE ###\n",
    "terms = \n",
    "\n",
    "# Plot the top 5 enriched terms\n",
    "# The plot function visualizes the enrichment results\n",
    "axs = gs_res.plot(terms[:5], show_ranking=False, legend_kws={'loc': (1.05, 0)})"
   ]
  },
  {
   "cell_type": "markdown",
   "metadata": {},
   "source": [
    "You can view and extract leading-edge genes from GSEA results. Leading-edge genes are the subset of genes that contribute most to the enrichment score."
   ]
  },
  {
   "cell_type": "code",
   "execution_count": null,
   "metadata": {},
   "outputs": [],
   "source": [
    "# View leading-edge genes from the GSEA results. \n",
    "gs_res.res2d[['Term', 'Lead_genes']].head(10)"
   ]
  },
  {
   "cell_type": "markdown",
   "metadata": {},
   "source": [
    "### Heatmap Visualisation"
   ]
  },
  {
   "cell_type": "markdown",
   "metadata": {},
   "source": [
    "`gseapy` provides a heatmap function to visualise the expression levels of the leading-edge genes. The heatmap provides a visual representation of how these genes are expressed across different samples in relation to their assigned phenotypic classes. "
   ]
  },
  {
   "cell_type": "code",
   "execution_count": null,
   "metadata": {},
   "outputs": [],
   "source": [
    "# Import the heatmap function from gseapy\n",
    "from gseapy import heatmap\n",
    "\n",
    "# Select the index of the term to visualize\n",
    "i = 0\n",
    "\n",
    "# Extract the genes contributing to the enrichment of the selected term\n",
    "\n",
    "### YOUR CODE HERE ###\n",
    "genes = \n",
    "print(genes)"
   ]
  },
  {
   "cell_type": "code",
   "execution_count": null,
   "metadata": {},
   "outputs": [],
   "source": [
    "# Generate a heatmap of the expression levels of the leading-edge genes\n",
    "ax = heatmap(df=gs_res.heatmat.loc[genes], z_score=0, title=terms[i], figsize=(15, 4))\n",
    "\n",
    "# Update the x-tick labels with the class labels\n",
    "xtick_labels = [classes[item.get_text()] for item in ax.get_xticklabels()]\n",
    "ax.set_xticklabels(xtick_labels, rotation=45, ha='right')\n",
    "ax.plot()"
   ]
  },
  {
   "cell_type": "markdown",
   "metadata": {},
   "source": [
    "### Clustermap Visualisation"
   ]
  },
  {
   "cell_type": "markdown",
   "metadata": {},
   "source": [
    "The function `clustermap` from `seaborn` is used to create a clustered heatmap. It not only shows the expression levels of the leading-edge genes but also clusters them based on similarity, providing additional insights into gene expression patterns. The cluster map includes dendrograms, which show the hierarchical clustering of both genes and samples, helping to identify groups of co-expressed genes and similar samples."
   ]
  },
  {
   "cell_type": "code",
   "execution_count": null,
   "metadata": {},
   "outputs": [],
   "source": [
    "\n",
    "# Import the clustermap function from seaborn\n",
    "from seaborn import clustermap\n",
    "\n",
    "# Select the index of the term to visualize\n",
    "i = 2\n",
    "\n",
    "# Extract the genes contributing to the enrichment of the selected term\n",
    "genes = gs_res.res2d.Lead_genes[i].split(\";\")\n",
    "\n",
    "# Extract the relevant subset of the heatmap data\n",
    "\n",
    "### YOUR CODE HERE ###\n",
    "data = \n",
    "\n",
    "# Rename the columns based on the class assignments\n",
    "data.rename(columns=classes, inplace=True)\n",
    "\n",
    "# Generate a cluster map of the expression levels of the leading-edge genes\n",
    "ax = clustermap(\n",
    "    data=data,  # The data to cluster\n",
    "    method='average',  # Clustering method\n",
    "    metric='euclidean',  # Distance metric\n",
    "    z_score=0,  # Standardize the data along the rows\n",
    "    figsize=(14, 4),  # Size of the figure\n",
    "    dendrogram_ratio=0.2,  # Ratio of the dendrogram\n",
    "    colors_ratio=0.03,  # Ratio of the colors\n",
    "    cbar_pos=(0.02, 0.1, 0.05, 0.1)  # Position of the color bar\n",
    ")"
   ]
  },
  {
   "cell_type": "markdown",
   "metadata": {},
   "source": [
    "### Dot Plot Visualisation"
   ]
  },
  {
   "cell_type": "markdown",
   "metadata": {},
   "source": [
    "Use the `dotplot` function in `gseapy` to create a visual representation of the GSEA results. Here we use \"FDR q-val\" to determine the dot sizes, which represents the false discovery rate adjusted p-values. We display normalised enrichment score (NES) value as the x-axis. "
   ]
  },
  {
   "cell_type": "code",
   "execution_count": null,
   "metadata": {},
   "outputs": [],
   "source": [
    "# Import the dotplot function from gseapy\n",
    "from gseapy import dotplot\n",
    "\n",
    "# Generate the dot plot for the GSEA results\n",
    "# The dotplot function visualizes the enrichment results, focusing on the FDR q-values\n",
    "ax = dotplot(gs_res.res2d,\n",
    "             column=\"FDR q-val\",  # Column to be used for dot size\n",
    "             title=gene_sets[0],  # Title the plot as the chosen gene set name \n",
    "             cmap=plt.cm.viridis,  # Color map for the dots\n",
    "             size=5,  # Size of the dots\n",
    "             figsize=(4, 5),  # Size of the figure\n",
    "             cutoff=1)  # Cutoff for displaying the terms"
   ]
  },
  {
   "cell_type": "markdown",
   "metadata": {},
   "source": [
    "### GSEA on Clusters\n",
    "\n",
    "Similarly to ORA, GSEA can also be performed on individual communities after clustering. This allows for a more granular analysis, revealing pathways and functions that are enriched within particular subgroups of the data.\n"
   ]
  },
  {
   "cell_type": "code",
   "execution_count": null,
   "metadata": {},
   "outputs": [],
   "source": [
    "# Define a function to perform GSEA on a given list of genes (community)\n",
    "def communityGSEA(genes, gene_sets='KEGG_2021_Human', classes=classes):\n",
    "    gs_res = gp.gsea(data=tcga_gxp_df.loc[genes], gene_sets=gene_sets, cls=classes, permutation_num=100, outdir=None, method='signal_to_noise', threads=4, seed=7, min_size=1) \n",
    "    return gs_res\n",
    "\n",
    "# Perform GSEA for three community\n",
    "\n",
    "### YOUR CODE HERE ###\n",
    "community1_gsea = communityGSEA()\n",
    "community2_gsea = communityGSEA() \n",
    "community3_gsea = communityGSEA()\n"
   ]
  },
  {
   "cell_type": "code",
   "execution_count": null,
   "metadata": {},
   "outputs": [],
   "source": [
    "# Display the top results for the first community\n",
    "\n",
    "### YOUR CODE HERE ###"
   ]
  },
  {
   "cell_type": "code",
   "execution_count": null,
   "metadata": {},
   "outputs": [],
   "source": [
    "# Extract the enriched terms from the GSEA results for the first community\n",
    "terms = community1_gsea.res2d.Term\n",
    "\n",
    "# Plot the top 5 enriched terms for the first community\n",
    "axs = community1_gsea.plot(terms[:5], show_ranking=False, legend_kws={'loc': (1.05, 0)})"
   ]
  }
 ],
 "metadata": {
  "kernelspec": {
   "display_name": "ismb",
   "language": "python",
   "name": "python3"
  },
  "language_info": {
   "codemirror_mode": {
    "name": "ipython",
    "version": 3
   },
   "file_extension": ".py",
   "mimetype": "text/x-python",
   "name": "python",
   "nbconvert_exporter": "python",
   "pygments_lexer": "ipython3",
   "version": "3.10.14"
  }
 },
 "nbformat": 4,
 "nbformat_minor": 2
}
