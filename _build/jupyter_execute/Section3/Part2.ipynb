{
 "cells": [
  {
   "cell_type": "markdown",
   "id": "86a06907",
   "metadata": {},
   "source": [
    "# <font color='darkblue'> Part 2 : Problem Formulation / Patient Similarity Network Generation </font>\n",
    "\n",
    "In this section we will formulate a task to predict if an individual in the Generation Scotland dataset is a smoker or not. We will formulate the task using the Patient Similarity Networks generated earlier. We will also highlight that not every network is created equal. \n",
    "\n",
    "Networks are flexible and we can leverage/incorporate additional informative information. We have used the [EWAS Catalog](https://www.ewascatalog.org/) to identify CpG sites affected by smoking. We will compare the effectiveness of GNN's when incorporating external informative versus doing a direct correlation network. "
   ]
  },
  {
   "cell_type": "markdown",
   "id": "c920628f",
   "metadata": {},
   "source": [
    "## <font color='darkblue'>Import Functions and Packages </font>"
   ]
  },
  {
   "cell_type": "code",
   "execution_count": null,
   "id": "0997595e",
   "metadata": {},
   "outputs": [],
   "source": [
    "import pickle\n",
    "import pandas as pd\n",
    "import numpy as np\n",
    "import networkx as nx\n",
    "from palettable import wesanderson\n",
    "import sys\n",
    "sys.path.insert(0 , '/tutorial/')\n",
    "from functions import *"
   ]
  },
  {
   "cell_type": "markdown",
   "id": "4745033e",
   "metadata": {},
   "source": [
    "## <font color='darkblue'>Import and Process Generation Scotland Data</font>\n",
    "\n",
    "First we will load the data from Generation Scotland and create labels for individuals who have smoked before using the 'pack_years' feature"
   ]
  },
  {
   "cell_type": "code",
   "execution_count": null,
   "id": "c485b041",
   "metadata": {},
   "outputs": [],
   "source": [
    "# Load the Generation Scotland data using pickle\n",
    "with open('/data/raw/ISMB_GS_Data.pkl' , 'rb') as file : \n",
    "    loaded_data = pd.read_pickle(file)"
   ]
  },
  {
   "cell_type": "code",
   "execution_count": null,
   "id": "7ce58d66",
   "metadata": {},
   "outputs": [],
   "source": [
    "'''\n",
    "#################################################\n",
    "               YOUR CODE HERE\n",
    "#################################################\n",
    "\n",
    "Extract 'DNAm_w1' (Generation Scotland Wave 1) from loaded_data pkl file, dropping any na's from the dataset\n",
    "\n",
    "Extract 'Phenotypes' from loaded_data pkl file, set the index as `Sample_SentrixID` and subset to wave 1\n",
    "'''\n",
    "\n",
    "w1 = loaded_data[''].T.dropna() # we are only working with Wave 1 patients for this task\n",
    "phenotypes = loaded_data[].set_index().loc[] # get the phenotypes for the wave 1 patients"
   ]
  },
  {
   "cell_type": "code",
   "execution_count": null,
   "id": "a1438a96",
   "metadata": {},
   "outputs": [],
   "source": [
    "# Create a new column in the phenotypes dataframe that categorizes patients as either smokers or non-smokers\n",
    "def smoking_cat(row) : \n",
    "    if row['pack_years'] == 0 :\n",
    "        return 'Non-Smoker'\n",
    "    else :\n",
    "        return 'Smoker'\n",
    "\n",
    "phenotypes['Smoking'] = phenotypes.apply(smoking_cat , axis = 1) # apply the function to the dataframe"
   ]
  },
  {
   "cell_type": "code",
   "execution_count": null,
   "id": "c4c7e547",
   "metadata": {},
   "outputs": [],
   "source": [
    "# For efficiency of graph training and learning we will downsample the dataset size to 1000 patients\n",
    "never_smoked = phenotypes[phenotypes['Smoking'] == 'Non-Smoker'].sample(500) # sample 500 non-smokers\n",
    "smoked = phenotypes[phenotypes['Smoking'] == 'Smoker'].sample(500) # sample 500 smokers\n",
    "\n",
    "phenotypes = pd.concat([never_smoked , smoked]) # combine the two dataframes\n",
    "w1 = w1.loc[phenotypes.index] # filter the methylation data to only include the patients in the downsampled phenotypes dataframe"
   ]
  },
  {
   "cell_type": "code",
   "execution_count": null,
   "id": "7d4b89a4",
   "metadata": {},
   "outputs": [],
   "source": [
    "'''\n",
    "#################################################\n",
    "               YOUR CODE HERE\n",
    "#################################################\n",
    "\n",
    "Plot the distribution of smokers and non-smokers\n",
    "'''\n",
    "\n",
    "plt.title('Distribution of Smokers and Non-Smokers')"
   ]
  },
  {
   "cell_type": "markdown",
   "id": "f4dd1a4c",
   "metadata": {},
   "source": [
    "## <font color='darkblue'> EWAS Network Generation </font>"
   ]
  },
  {
   "cell_type": "markdown",
   "id": "8064cad8",
   "metadata": {},
   "source": [
    "### <font color='darkblue'>Get a list of Smoking related CpG sites from the [EWAS Catalog](https://www.ewascatalog.org/)</font>\n",
    "\n",
    "In this case we are looking at the smoking phenotype in a cohort from Generation Scotland. \n",
    "\n",
    "We have previously downloaded as tsv file for Smoking related CpG sites, but you can generate your own using the above link also.\n",
    "\n",
    "Here we will extract the CpG's and related genes which we will use to build our network."
   ]
  },
  {
   "cell_type": "code",
   "execution_count": null,
   "id": "bc55e02f-100f-4e56-9a17-dfe6a95eeb12",
   "metadata": {},
   "outputs": [],
   "source": [
    "df = pd.read_csv('/data/raw/smoking.tsv' , delimiter='\\t') #Tab seperated document from EWAS\n",
    "df.head()"
   ]
  },
  {
   "cell_type": "markdown",
   "id": "5befee3a",
   "metadata": {},
   "source": [
    "### <font color='darkblue'>Patient Similarity Network Generation</font>"
   ]
  },
  {
   "cell_type": "code",
   "execution_count": null,
   "id": "83b8c4c4",
   "metadata": {},
   "outputs": [],
   "source": [
    "'''\n",
    "#################################################\n",
    "                YOUR CODE HERE\n",
    "#################################################\n",
    "\n",
    "We want to include the most informative CpG sites, so we will only include CpG sites that have been annotated multiple times with smoking\n",
    "\n",
    "1. Count the number of times a CpG site is present in the smoking.tcv dataset\n",
    "2. If a CpG is present in the dataset more than 10 times add it to the list common_annotated_cpgs\n",
    "3. Filter the methylation data to only include the CpG sites in common_annotated_cpgs\n",
    "4. Call the new dataframe w1_filt\n",
    "\n",
    "'''"
   ]
  },
  {
   "cell_type": "code",
   "execution_count": null,
   "id": "100c93a0",
   "metadata": {},
   "outputs": [],
   "source": [
    "'''\n",
    "#################################################\n",
    "                YOUR CODE HERE\n",
    "#################################################\n",
    "\n",
    "We want to create our patient similarity matrix using the filtered methylation data\n",
    "We will use biweight midcorrelation to calculate the similarity between patients \n",
    "The function for this is given as abs_bicorr\n",
    "\n",
    "'''"
   ]
  },
  {
   "cell_type": "code",
   "execution_count": null,
   "id": "c6e598b8",
   "metadata": {},
   "outputs": [],
   "source": [
    "'''\n",
    "#################################################\n",
    "                YOUR CODE HERE\n",
    "#################################################\n",
    "We want to plot our Patient Similarity Network using the function plot_knn_network() from functions.py\n",
    "\n",
    "Specify the node colours by assigning a colour to each phenotype using the .astype(`category`).cat.codes panda functionality\n",
    "\n",
    "'''\n",
    "node_colour =  # set the colours for the nodes\n",
    "\n",
    "print(f\"{phenotypes['Smoking'].astype('category').cat.categories[0]} : 0 \\n{phenotypes['Smoking'].astype('category').cat.categories[1]} : 1\") # print the mapping of the colours to the categories\n",
    "\n",
    "G = plot_knn_network() # plot the network\n",
    "plt.title('EWAS Smoking Patient Similarity Network')\n",
    "legend_handles = gen_graph_legend(node_colour , G , 'label') # generate the legend\n",
    "plt.legend(handles = legend_handles)\n",
    "plt.show()"
   ]
  },
  {
   "cell_type": "markdown",
   "id": "777b3602",
   "metadata": {},
   "source": [
    "## <font color='darkblue'>Save Network and Data for GNN Learning </font>"
   ]
  },
  {
   "cell_type": "code",
   "execution_count": null,
   "id": "66f44e96",
   "metadata": {},
   "outputs": [],
   "source": [
    "# Put the data in a single dictionary\n",
    "data = {'Feat' : w1 , 'phenotypes' : phenotypes , 'PSN_EWAS' : G}\n",
    "\n",
    "# File path to save the pickle file\n",
    "file_path = '/data/intermediate/GCN_Data.pkl'\n",
    "\n",
    "# Save data to a pickle file\n",
    "with open(file_path, 'wb') as f:\n",
    "    pickle.dump(data, f)"
   ]
  }
 ],
 "metadata": {
  "kernelspec": {
   "display_name": "ISMB24 Networks Workshop",
   "language": "python",
   "name": "ismb24"
  },
  "language_info": {
   "codemirror_mode": {
    "name": "ipython",
    "version": 3
   },
   "file_extension": ".py",
   "mimetype": "text/x-python",
   "name": "python",
   "nbconvert_exporter": "python",
   "pygments_lexer": "ipython3",
   "version": "3.12.3"
  }
 },
 "nbformat": 4,
 "nbformat_minor": 5
}