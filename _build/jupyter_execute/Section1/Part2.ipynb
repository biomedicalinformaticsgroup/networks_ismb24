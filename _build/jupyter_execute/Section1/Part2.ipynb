{
 "cells": [
  {
   "cell_type": "markdown",
   "metadata": {},
   "source": [
    "# Part 2 - Patient Similarity Networks (PSNs)"
   ]
  },
  {
   "cell_type": "markdown",
   "metadata": {},
   "source": [
    "## Table of Contents"
   ]
  },
  {
   "cell_type": "markdown",
   "metadata": {},
   "source": [
    "Part 2.\n",
    "\n",
    "10. **Patient Similarity Network Construction**\n",
    "\n",
    "11. **DNA Methylation Network Analysis** "
   ]
  },
  {
   "cell_type": "code",
   "execution_count": null,
   "metadata": {},
   "outputs": [],
   "source": [
    "# standard libraries\n",
    "import os\n",
    "import pickle\n",
    "\n",
    "# scientific and data manipulation libraries\n",
    "import numpy as np\n",
    "import pandas as pd\n",
    "from scipy import stats\n",
    "from sklearn.feature_selection import mutual_info_regression\n",
    "from astropy.stats import median_absolute_deviation\n",
    "import mygene\n",
    "import astropy\n",
    "\n",
    "# graph and network libraries\n",
    "import networkx as nx\n",
    "\n",
    "# visualization libraries\n",
    "import matplotlib.pyplot as plt\n",
    "import seaborn as sns\n",
    "import plotly.graph_objects as go\n",
    "import plotly.io as pio\n",
    "from IPython.display import Image\n",
    "from IPython.display import display\n",
    "\n",
    "import warnings\n",
    "warnings.filterwarnings('ignore')\n",
    "\n",
    "# import custom functions from the previous notebook\n",
    "import sys\n",
    "sys.path.insert(0 , '/tutorial/')\n",
    "from functions import *"
   ]
  },
  {
   "cell_type": "markdown",
   "metadata": {},
   "source": [
    "# 10. Patient Similarity Network (PSN)"
   ]
  },
  {
   "cell_type": "markdown",
   "metadata": {},
   "source": [
    "- Based on the same expression matrix we can create a patient similarity network.\n",
    "- Transposing the matrix will switch the rows and columns,\n",
    "- meaning that patients will become the columns instead of genes\n",
    "- By doing this, you can compute the correlation (or similarity) between patients based on their gene expression profiles,\n",
    "- and then create a network where nodes represent patients and edges represent similarities."
   ]
  },
  {
   "cell_type": "code",
   "execution_count": null,
   "metadata": {},
   "outputs": [],
   "source": [
    "# main data directories for the project\n",
    "\n",
    "raw_data_dir = '/data/raw'\n",
    "intermediate_data_dir = '/data/intermediate'"
   ]
  },
  {
   "cell_type": "code",
   "execution_count": null,
   "metadata": {},
   "outputs": [],
   "source": [
    "# read in os.path.join(intermediate_data_dir,\"expression_data_filtered.csv\")\n",
    "df_renamed = pd.read_csv(os.path.join(intermediate_data_dir,\n",
    "                                      \"expression_data_filtered.csv\"),\n",
    "                                      index_col=0)"
   ]
  },
  {
   "cell_type": "code",
   "execution_count": null,
   "metadata": {},
   "outputs": [],
   "source": [
    "'''\n",
    "#################################################\n",
    "                YOUR CODE HERE\n",
    "#################################################\n",
    "\n",
    "We will now transpose the df_renamed df so that the rows represent the genes and the columns represent the patients.\n",
    "Let's call the transposed df patient_gene_matrix.\n",
    "\n",
    "'''"
   ]
  },
  {
   "cell_type": "code",
   "execution_count": null,
   "metadata": {},
   "outputs": [],
   "source": [
    "patient_gene_matrix"
   ]
  },
  {
   "cell_type": "code",
   "execution_count": null,
   "metadata": {},
   "outputs": [],
   "source": [
    "'''\n",
    "#################################################\n",
    "                YOUR CODE HERE\n",
    "#################################################\n",
    "\n",
    "We will now calculate the correlation matrix for the patient_gene_matrix using the Pearson correlation method.\n",
    "Store the correlation matrix in a dictionary called patient_correlation_matrices with the key 'pearson'.\n",
    "We don't have to do it, however if you want to calculate the correlation matrix using other methods,\n",
    "you can do so and store them in the dictionary as well.\n",
    "\n",
    "'''\n",
    "\n",
    "# Dictionary to store different correlation matrices\n",
    "\n",
    "\n",
    "# Pearson correlation\n"
   ]
  },
  {
   "cell_type": "code",
   "execution_count": null,
   "metadata": {},
   "outputs": [],
   "source": [
    "'''\n",
    "#################################################\n",
    "                YOUR CODE HERE\n",
    "#################################################\n",
    "\n",
    "Create a graph from the correlation matrix using the create_graph_from_correlation function.\n",
    "Set the threshold to 0.8.\n",
    "Store the graph in a variable called patient_pearson_graph.\n",
    "\n",
    "'''\n"
   ]
  },
  {
   "cell_type": "code",
   "execution_count": null,
   "metadata": {},
   "outputs": [],
   "source": [
    "'''\n",
    "#################################################\n",
    "                YOUR CODE HERE\n",
    "#################################################\n",
    "\n",
    "Visualie the graph using the visualise_graph function.\n",
    "Use appropriate title for the graph as the second argument.\n",
    "\n",
    "'''"
   ]
  },
  {
   "cell_type": "code",
   "execution_count": null,
   "metadata": {},
   "outputs": [],
   "source": [
    "'''\n",
    "#################################################\n",
    "                YOUR CODE HERE\n",
    "#################################################\n",
    "\n",
    "Now use clean_graph function to clean the graph called patient_pearson_graph_pruned.\n",
    "Consider the following parameters:\n",
    "- degree_threshold\n",
    "- keep_largest_component\n",
    "\n",
    "'''\n"
   ]
  },
  {
   "cell_type": "code",
   "execution_count": null,
   "metadata": {},
   "outputs": [],
   "source": [
    "'''\n",
    "#################################################\n",
    "                YOUR CODE HERE\n",
    "#################################################\n",
    "\n",
    "Visualie the pruned graph using the visualise_graph function.\n",
    "Use appropriate title for the graph as the second argument.\n",
    "\n",
    "'''\n",
    "\n"
   ]
  },
  {
   "cell_type": "code",
   "execution_count": null,
   "metadata": {},
   "outputs": [],
   "source": [
    "'''\n",
    "#################################################\n",
    "                YOUR CODE HERE\n",
    "#################################################\n",
    "\n",
    " Now do some sparsification of the graph using knn_sparsification function,\n",
    " call it patient_pearson_graph_pruned_knn.\n",
    " Set the k value to 10.               \n",
    "\n",
    "'''\n",
    "\n"
   ]
  },
  {
   "cell_type": "code",
   "execution_count": null,
   "metadata": {},
   "outputs": [],
   "source": [
    "'''\n",
    "#################################################\n",
    "                YOUR CODE HERE\n",
    "#################################################\n",
    "\n",
    "Let's see some information about the graph using the print_graph_info function.\n",
    "First, print the information about the patient_pearson_graph_pruned graph.\n",
    "Use print(\"------------------------------------\"), as a devide between the two graphs.\n",
    "Then, print the information about the patient_pearson_graph_pruned_knn graph.            \n",
    "\n",
    "'''\n",
    "\n"
   ]
  },
  {
   "cell_type": "code",
   "execution_count": null,
   "metadata": {},
   "outputs": [],
   "source": [
    "visualise_graph(patient_pearson_graph_pruned_knn, title='K-Nearest Neighbors (k=10) Patient Correlation Network')"
   ]
  },
  {
   "cell_type": "markdown",
   "metadata": {},
   "source": [
    "# 11. DNA methylation PSN"
   ]
  },
  {
   "cell_type": "markdown",
   "metadata": {},
   "source": [
    "In the second task, we are preparing an additional network for the same patients, this time based on DNA methylation data."
   ]
  },
  {
   "cell_type": "code",
   "execution_count": null,
   "metadata": {},
   "outputs": [],
   "source": [
    "# Load the data using pickle from the ISMB_TCGA_DNAm.pkl file\n",
    "with open(os.path.join(raw_data_dir,\"ISMB_TCGA_DNAm.pkl\") , 'rb') as file : \n",
    "    data = pd.read_pickle(file)\n",
    "\n",
    "# Extract the methylation data from the dictionary similar to the previous data\n",
    "meth_data = data[\"datExpr\"]\n",
    "meth_data\n"
   ]
  },
  {
   "cell_type": "code",
   "execution_count": null,
   "metadata": {},
   "outputs": [],
   "source": [
    "# load the data from the pickle file ISMB_TCGA_GE.pkl and call it GE_data\n",
    "with open(os.path.join(raw_data_dir,\"ISMB_TCGA_GE.pkl\"), 'rb') as file:\n",
    "    GE_data = pickle.load(file)"
   ]
  },
  {
   "cell_type": "code",
   "execution_count": null,
   "metadata": {},
   "outputs": [],
   "source": [
    "# A reminder about the structure of the GE_data, we can get a list of the patients using the following code\n",
    "GE_data[\"datMeta\"][\"patient\"].to_list()"
   ]
  },
  {
   "cell_type": "markdown",
   "metadata": {},
   "source": [
    "We don't want to include all CpG sites in our analysis, so we are using dataset from the EWAS Catalog that contains smoking related CpG sites."
   ]
  },
  {
   "cell_type": "code",
   "execution_count": null,
   "metadata": {},
   "outputs": [],
   "source": [
    "smoking_df = pd.read_csv(os.path.join(raw_data_dir,\"smoking.tsv\"),\n",
    "                          delimiter='\\t')\n",
    "smoking_df"
   ]
  },
  {
   "cell_type": "code",
   "execution_count": null,
   "metadata": {},
   "outputs": [],
   "source": [
    "'''\n",
    "#################################################\n",
    "                YOUR CODE HERE\n",
    "#################################################\n",
    "1. Identify CpG sites that are commonly annotated in the smoking dataset\n",
    "2. Filter the DNA methylation data to include only the common CpG sites identified in the previous step\n",
    "3. Identify patients that are present in both the gene expression dataset and the methylation dataset\n",
    "4. Filter the methylation data to include only the common patients and common CpG sites\n",
    "5. Transpose the filtered methylation data matrix\n",
    "'''\n",
    "\n",
    "# Step 1: Count the occurrences of each unique value in the 'cpg' column using value_counts\n",
    "\n",
    "\n",
    "# Step 2: Filter the counts to keep only those greater than 10\n",
    "\n",
    "\n",
    "# Step 3: Get the index of the filtered counts and convert it to a list\n",
    "\n",
    "\n",
    "# Step 4: Identify common CpG sites between the annotated list and the methylation dataset\n",
    "\n",
    "\n",
    "# Step 5: Convert the cpgs set to a list\n",
    "\n",
    "\n",
    "# Step 6: Identify common patients between the gene expression and methylation datasets\n",
    "# remember how to get the list of patients from dataset and to convert it to a list\n",
    "\n",
    "\n",
    "# Step 7: Filter the methylation data to include only the common patients and common CpG sites\n",
    "\n",
    "\n",
    "# Step 8: Transpose the filtered methylation data matrix and call it patient_meth_matrix\n",
    "\n"
   ]
  },
  {
   "cell_type": "code",
   "execution_count": null,
   "metadata": {},
   "outputs": [],
   "source": [
    "# let's inspect the patient_meth_matrix that we have created\n",
    "patient_meth_matrix"
   ]
  },
  {
   "cell_type": "markdown",
   "metadata": {},
   "source": [
    "We can finish our network following the previous steps using the functions we have created."
   ]
  },
  {
   "cell_type": "code",
   "execution_count": null,
   "metadata": {},
   "outputs": [],
   "source": [
    "# Dictionary to store different correlation matrices\n",
    "p_meth_correlation_matrices = {}\n",
    "\n",
    "# Pearson correlation\n",
    "p_meth_correlation_matrices['pearson'] = patient_meth_matrix.corr(method='pearson')\n",
    "\n",
    "p_meth_pearson_graph = create_graph_from_correlation(p_meth_correlation_matrices['pearson'], threshold=0.8)\n",
    "# Clean the graph by removing unconnected nodes\n",
    "p_meth_pearson_graph_pruned = clean_graph(p_meth_pearson_graph,\n",
    "                                    degree_threshold=1,\n",
    "                                    keep_largest_component=True)\n",
    "\n",
    "visualise_graph(p_meth_pearson_graph_pruned, title='Pearson Correlation Network (Threshold = 0.8)')"
   ]
  },
  {
   "cell_type": "code",
   "execution_count": null,
   "metadata": {},
   "outputs": [],
   "source": [
    "# sparseify the graph using knn_sparsification or any other method\n",
    "p_meth_pearson_graph_pruned_knn = knn_sparsification(p_meth_pearson_graph_pruned, k=10)"
   ]
  },
  {
   "cell_type": "code",
   "execution_count": null,
   "metadata": {},
   "outputs": [],
   "source": [
    "# visualise the graph using the visualise_graph function\n",
    "visualise_graph(p_meth_pearson_graph_pruned_knn, title='Pearson Correlation Network (Threshold = 0.8)')"
   ]
  }
 ],
 "metadata": {
  "kernelspec": {
   "display_name": "ISMB24 Networks Workshop",
   "language": "python",
   "name": "ismb24"
  },
  "language_info": {
   "codemirror_mode": {
    "name": "ipython",
    "version": 3
   },
   "file_extension": ".py",
   "mimetype": "text/x-python",
   "name": "python",
   "nbconvert_exporter": "python",
   "pygments_lexer": "ipython3",
   "version": "3.12.3"
  }
 },
 "nbformat": 4,
 "nbformat_minor": 4
}