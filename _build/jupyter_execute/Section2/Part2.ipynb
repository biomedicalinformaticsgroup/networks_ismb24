{
 "cells": [
  {
   "cell_type": "markdown",
   "metadata": {},
   "source": [
    "## Part 2: Similarity Network Fusion"
   ]
  },
  {
   "cell_type": "code",
   "execution_count": null,
   "metadata": {},
   "outputs": [],
   "source": [
    "import pickle\n",
    "import os\n",
    "import sys\n",
    "import matplotlib.pyplot as plt\n",
    "import urllib\n",
    "import urllib as ul\n",
    "import urllib.request\n",
    "import pandas as pd\n",
    "import numpy as np\n",
    "import matplotlib.pyplot as plt\n",
    "import matplotlib\n",
    "import json\n",
    "import networkx as nx\n",
    "import ast\n",
    "from prettytable import PrettyTable\n",
    "import gseapy as gp\n",
    "from palettable import wesanderson\n",
    "\n",
    "pd.set_option('display.max_colwidth', None)\n",
    "pd.set_option('display.max_columns', None)\n",
    "pd.set_option('display.max_rows', None)\n",
    "\n",
    "import warnings\n",
    "warnings.filterwarnings('ignore')"
   ]
  },
  {
   "cell_type": "code",
   "execution_count": null,
   "metadata": {},
   "outputs": [],
   "source": [
    "print(os.getcwd())\n",
    "current_dir = os.path.dirname(os.path.abspath('__file__'))\n",
    "parent_dir = os.path.abspath(os.path.join(current_dir, '..'))\n",
    "sys.path.append(parent_dir)\n",
    "print(parent_dir)"
   ]
  },
  {
   "cell_type": "markdown",
   "metadata": {},
   "source": [
    "**Paths**"
   ]
  },
  {
   "cell_type": "code",
   "execution_count": null,
   "metadata": {},
   "outputs": [],
   "source": [
    "intermediate_data_dir = '/data/intermediate/'\n",
    "raw_data_dir = '/data/raw/'\n",
    "\n",
    "# Define paths to .gml network files from Section 1\n",
    "# These paths point to the Gene correlation network, Patient network from (1) TCGA gene expression data and (2) TCGA DNA methylation data.\n",
    "G_patient_gxp_path = intermediate_data_dir + 'section2_networks_v2/patient_coexpression_network_knn.gml'\n",
    "G_patient_dnam_path = intermediate_data_dir + 'section2_networks_v2/patient_meth_network_knn.gml'\n",
    "\n",
    "# Load the GML graphs into NetworkX graph objects\n",
    "# nx.read_gml() function reads a graph from a GML file\n",
    "G_patient_gxp = nx.read_gml(G_patient_gxp_path)  # Patient gene expression network\n",
    "G_patient_dnam = nx.read_gml(G_patient_dnam_path)  # Patient methylation network\n",
    "\n",
    "# Get all nodes in each graph\n",
    "# The nodes represent genes or patients depending on the network\n",
    "G_patient_gxp_nodes_list = list(G_patient_gxp.nodes())  # Patient nodes\n",
    "G_patient_dnam_nodes_list = list(G_patient_dnam.nodes())  # Patient nodes\n",
    "\n",
    "# Define paths to the raw TCGA datasets\n",
    "tcga_dnam_path = raw_data_dir + 'ISMB_TCGA_DNAm.pkl'  # TCGA DNA methylation data\n",
    "tcga_gxp_path = raw_data_dir + 'ISMB_TCGA_GE.pkl'  # TCGA Gene expression data\n",
    "\n",
    "# Load the gene expression dataset\n",
    "# pd.read_pickle() function loads a pickled pandas DataFrame or Series\n",
    "tcga_gxp = pd.read_pickle(tcga_gxp_path)\n",
    "# Extract metadata from the gene expression dataset\n",
    "# Metadata might include information such as patient IDs, sample conditions, etc.\n",
    "tcga_gxp_meta = tcga_gxp['datMeta']\n",
    "\n",
    "# For this example, we'll use a CSV file that includes gene symbols\n",
    "# pd.read_csv() function loads a CSV file into a pandas DataFrame\n",
    "tcga_gxp_df = pd.read_csv(intermediate_data_dir + 'tcga_ge_df_symbols_t.csv')  # Dataset with gene symbols\n",
    "# Set 'GENES' column as the index for easy access to gene-specific data\n",
    "tcga_gxp_df.set_index('GENES', inplace=True)\n",
    "\n"
   ]
  },
  {
   "cell_type": "code",
   "execution_count": null,
   "metadata": {},
   "outputs": [],
   "source": [
    "tcga_gxp_meta_dict = tcga_gxp_meta.to_dict()\n",
    "print(tcga_gxp_meta_dict.keys())"
   ]
  },
  {
   "cell_type": "markdown",
   "metadata": {},
   "source": [
    "**Import custom functions**"
   ]
  },
  {
   "cell_type": "code",
   "execution_count": null,
   "metadata": {},
   "outputs": [],
   "source": [
    "from functions import get_k_neighbours, draw_network_with_node_attrs"
   ]
  },
  {
   "cell_type": "markdown",
   "metadata": {},
   "source": [
    "### Patient Network Analysis\n",
    "\n",
    "In Part 1, we worked with gene expression networks, where each node represented a gene. In Part 2, our focus shifts to patient networks. In Patient Similarity Networks (PSNs), each node represents an individual patient and the edges encode similarities between patients, based on various modalities of data such as gene expression profiles and DNA methylation patterns."
   ]
  },
  {
   "cell_type": "markdown",
   "metadata": {},
   "source": [
    "#### Clustering on Individual Patient Networks\n",
    "\n",
    "We can apply clustering on PSNs and identify patterns in relation to a phenotypic attribute (e.g., smoking status)"
   ]
  },
  {
   "cell_type": "code",
   "execution_count": null,
   "metadata": {},
   "outputs": [],
   "source": [
    "from itertools import chain\n",
    "\n",
    "def get_edge_attributes(G):\n",
    "    \"\"\"\n",
    "    Extracts edge attributes from a graph.\n",
    "\n",
    "    Args:\n",
    "        G (networkx.Graph): The graph from which to extract edge attributes.\n",
    "\n",
    "    Returns:\n",
    "        list: A list of edge attributes.\n",
    "\n",
    "    Raises:\n",
    "        ValueError: If the graph G is empty or not defined.\n",
    "    \"\"\"\n",
    "    if not G:\n",
    "        raise ValueError(\"The graph is empty or not defined.\")\n",
    "\n",
    "    # Extract edge attributes\n",
    "    edge_attributes = list(set(chain.from_iterable(d.keys() for *_, d in G.edges(data=True)))\n",
    "    )\n",
    "    return edge_attributes\n",
    "\n",
    "G_patient_gxp_weight = get_edge_attributes(G_patient_gxp)[0]\n",
    "G_patient_dnam_weight = get_edge_attributes(G_patient_dnam)[0]\n",
    "\n",
    "print(f\"G_patient_gxp_weight: {G_patient_gxp_weight}, G_patient_dnam_weight: {G_patient_dnam_weight}\")"
   ]
  },
  {
   "cell_type": "code",
   "execution_count": null,
   "metadata": {},
   "outputs": [],
   "source": [
    "# Use the greedy modularity maximization method to detect communities in the patient network.\n",
    "\n",
    "### YOUR CODE HERE ###\n",
    "patient_gxp_communities = nx.algorithms.community.modularity_max.greedy_modularity_communities()\n",
    "patient_dnam_communities = nx.algorithms.community.modularity_max.greedy_modularity_communities()\n",
    "\n",
    "# Visualize the patient network with identified communities.\n",
    "\n",
    "### YOUR CODE HERE ###\n",
    "draw_network_with_node_attrs(G_patient_gxp, tcga_gxp_meta_dict, title='Patient Gene Expression Network', communities=patient_gxp_communities, layout='spring', with_labels=False, )\n",
    "draw_network_with_node_attrs(G_patient_dnam, tcga_gxp_meta_dict, title='Patient DNA Methylation Network', communities=patient_dnam_communities, layout='spring', with_labels=False, )"
   ]
  },
  {
   "cell_type": "markdown",
   "metadata": {},
   "source": [
    "#### Similarity Network Fusion (SNF)\n",
    "\n",
    "\n",
    "When working with patient data, we often want to combine information from multiple modalities. Here, we use Similarity Network Fusion (SNF) to integrate patient data in the space of samples (e.g., patients) rather than measurements (e.g., gene expression) [(Wang et al.)](https://pubmed.ncbi.nlm.nih.gov/24464287/).\n",
    "\n",
    "SNF consists of two main steps:\n",
    "\n",
    "1. Construction of Patient-Similarity Networks (`Section 1`): \n",
    "\n",
    "    - For each type of data (e.g., gene expression, DNA methylation), SNF constructs a patient-by-patient similarity matrix. This matrix represents a similarity network where nodes are samples (patients) and weighted edges represent the pairwise similarities between them. \n",
    "\n",
    "2. Integration of Networks: \n",
    "\n",
    "    - Using a nonlinear combination method based on message-passing theory, SNF iteratively updates each network with information from the others. This process aligns each network more closely to the other with every iteration. The iterative update continues until convergence, resulting in a single integrated similarity network.\n"
   ]
  },
  {
   "cell_type": "markdown",
   "metadata": {},
   "source": [
    "We use the Python library [`snfpy`](https://github.com/rmarkello/snfpy) to perform Similarity Network Fusion (SNF) on two patient networks. We start by identifying the overlapping patient nodes between gene expression (`G_patient_gxp`) and DNA methylation (`G_patient_dnam`) networks to ensure the networks represent the same patients. We then create adjacency matrices for these networks and use them as input for SNF. SNF fuses these networks into a single network (`G_snf`) that captures information from both modalities. The resulting SNF adjacency matrix is converted to a NetworkX graph, and edges with weights below a cutoff are removed to enhance community detection. Additionally, we perform a k-nearest neighbors (KNN) procedure on the SNF adjacency matrix to create another network (`G_snf_knn`). This step emphasises local neighborhood structures within the fused network. "
   ]
  },
  {
   "cell_type": "code",
   "execution_count": null,
   "metadata": {},
   "outputs": [],
   "source": [
    "import snf"
   ]
  },
  {
   "cell_type": "code",
   "execution_count": null,
   "metadata": {},
   "outputs": [],
   "source": [
    "# Use \"set()\"\" to get the intersection of patient nodes from the two PSNs, and convert back to list with \"list()\"\".\n",
    "# In patient networks, the nodes represent patients. We want to ensure that there are sufficient number of nodes commonly found in the networks of different modalities before Similarity Network Fusion (SNF), so that they represent different aspects of the same patients.\n",
    "\n",
    "### YOUR CODE HERE ###\n",
    "all_idx = \n",
    "print(f\"Number of overlapping patient nodes: {len(all_idx)}\")\n",
    "\n",
    "# Create adjacency matrix for G_patient_gxp with overlapping nodes\n",
    "\n",
    "### YOUR CODE HERE ###\n",
    "G_patient_gxp_adj_matrix = \n",
    "\n",
    "# Create adjacency matrix for G_patient_dnam with overlapping nodes\n",
    "G_patient_dnam_adj_matrix = nx.to_pandas_adjacency(G_patient_dnam, nodelist=all_idx, weight=G_patient_dnam_weight)"
   ]
  },
  {
   "cell_type": "code",
   "execution_count": null,
   "metadata": {},
   "outputs": [],
   "source": [
    "full_graphs = [] # List of adjacency (similarity) matrices\n",
    "full_graphs.append(G_patient_gxp_adj_matrix)\n",
    "full_graphs.append(G_patient_dnam_adj_matrix) "
   ]
  },
  {
   "cell_type": "code",
   "execution_count": null,
   "metadata": {},
   "outputs": [],
   "source": [
    "# Set the number of nearest neighbors and the number of iterations for SNF\n",
    "k = 10\n",
    "cutoff_weight = 0.003 # Edges with weights below a cutoff are removed to enhance community detection\n",
    "\n",
    "# Perform SNF\n",
    "# 'K' is the number of nearest neighbors used in SNF, 't' is the number of iterations\n",
    "adj_snf = snf.snf(full_graphs, K=k, t=30)\n",
    "\n",
    "# Convert the SNF adjacency matrix to a pandas DataFrame for easy manipulation\n",
    "\n",
    "### YOUR CODE HERE ###\n",
    "adj_snf = "
   ]
  },
  {
   "cell_type": "code",
   "execution_count": null,
   "metadata": {},
   "outputs": [],
   "source": [
    "# From the adjacency matrix to a NetworkX graph\n",
    "### YOUR CODE HERE ###\n",
    "G_snf = \n",
    "\n",
    "# Remove self-loops from the graph\n",
    "### YOUR CODE HERE ###\n",
    "\n",
    "# Remove edges with weight under cutoff value\n",
    "edges_to_remove = [(u, v) for u, v, d in G_snf.edges(data=True) if d['weight'] < cutoff_weight]\n",
    "G_snf.remove_edges_from(edges_to_remove)"
   ]
  },
  {
   "cell_type": "code",
   "execution_count": null,
   "metadata": {},
   "outputs": [],
   "source": [
    "# Cluster G_snf using greedy modularity communities algorithm\n",
    "snf_communities = nx.algorithms.community.modularity_max.greedy_modularity_communities(G_snf, weight='weight')\n",
    "draw_network_with_node_attrs(G_snf, node_attributes=tcga_gxp_meta_dict, title='SNF Patient Network', communities=snf_communities, color_attr='community', shape_attr='Smoked', layout='spring', with_labels=False)"
   ]
  },
  {
   "cell_type": "code",
   "execution_count": null,
   "metadata": {},
   "outputs": [],
   "source": [
    "# Compute the k-nearest neighbors for the nodes in the network\n",
    "k_neighbors = get_k_neighbours(adj_snf, k)\n",
    "\n",
    "# Create a new NetworkX graph\n",
    "G_snf_knn = nx.Graph()\n",
    "G_snf_knn.add_nodes_from(adj_snf.index) \n",
    "\n",
    "# Add edges between each node and its k-nearest neighbors with nested for loops\n",
    "\n",
    "### YOUR CODE HERE ###\n",
    "    ### YOUR CODE HERE ###\n",
    "        G_snf_knn.add_edge(node, neighbor)"
   ]
  },
  {
   "cell_type": "code",
   "execution_count": null,
   "metadata": {},
   "outputs": [],
   "source": [
    "# Cluster G_snf_knn using greedy modularity communities algorithm\n",
    "snf_knn_communities = nx.algorithms.community.modularity_max.greedy_modularity_communities(G_snf_knn)\n",
    "draw_network_with_node_attrs(G_snf_knn, node_attributes=tcga_gxp_meta_dict, title='SNF Patient Network + KNN', communities=snf_knn_communities, color_attr='community', shape_attr='Smoked', layout='spring', with_labels=False)"
   ]
  }
 ],
 "metadata": {
  "kernelspec": {
   "display_name": "ismb",
   "language": "python",
   "name": "python3"
  },
  "language_info": {
   "codemirror_mode": {
    "name": "ipython",
    "version": 3
   },
   "file_extension": ".py",
   "mimetype": "text/x-python",
   "name": "python",
   "nbconvert_exporter": "python",
   "pygments_lexer": "ipython3",
   "version": "3.10.14"
  }
 },
 "nbformat": 4,
 "nbformat_minor": 2
}